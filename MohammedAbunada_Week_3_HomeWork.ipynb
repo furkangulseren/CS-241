{
 "cells": [
  {
   "cell_type": "code",
   "execution_count": 1,
   "metadata": {
    "collapsed": false
   },
   "outputs": [
    {
     "name": "stdout",
     "output_type": "stream",
     "text": [
      "0       27\n",
      "1       42\n",
      "2       43\n",
      "3       15\n",
      "4       20\n",
      "5       42\n",
      "6       17\n",
      "7       22\n",
      "8       38\n",
      "9       21\n",
      "10      43\n",
      "11      26\n",
      "12      23\n",
      "13      34\n",
      "14      28\n",
      "15      28\n",
      "16      23\n",
      "17      33\n",
      "18      16\n",
      "19      24\n",
      "20      22\n",
      "21      32\n",
      "22      41\n",
      "23      37\n",
      "24      38\n",
      "25      29\n",
      "26      21\n",
      "27      37\n",
      "28      39\n",
      "29      26\n",
      "        ..\n",
      "7613    18\n",
      "7614    24\n",
      "7615    15\n",
      "7616    30\n",
      "7617    24\n",
      "7618    34\n",
      "7619    34\n",
      "7620    26\n",
      "7621    22\n",
      "7622    19\n",
      "7623    19\n",
      "7624    37\n",
      "7625    20\n",
      "7626    23\n",
      "7627    23\n",
      "7628    17\n",
      "7629    36\n",
      "7630    44\n",
      "7631    32\n",
      "7632    40\n",
      "7633    35\n",
      "7634    35\n",
      "7635    30\n",
      "7636    41\n",
      "7637    35\n",
      "7638    34\n",
      "7639    17\n",
      "7640    29\n",
      "7641    16\n",
      "7642    28\n",
      "Name: agescrn, dtype: int64\n",
      "15\n",
      "44\n",
      "0    4.0\n",
      "Name: numpregs, dtype: float64\n",
      "0.709143268539\n",
      "2.0\n"
     ]
    }
   ],
   "source": [
    "from __future__ import print_function, division\n",
    "\n",
    "import nsfg\n",
    "\n",
    "pres = nsfg.ReadFemResp()\n",
    "pres.columns\n",
    "#pres.row[:20]\n",
    "#pres.row[-30:]\n",
    "\n",
    "#print (\"There are %d rows and %d columns\" %(len(pres.row),len(pres.columns)))\n",
    "agescrn = pres[\"agescrn\"]\n",
    "print (agescrn)\n",
    "print (agescrn.min())\n",
    "print (agescrn.max())\n",
    "\n",
    "NumberOfPregs = pres[\"numpregs\"]\n",
    "print (NumberOfPregs[pres.caseid==2298])\n",
    "\n",
    "totalpreglist1 = NumberOfPregs[pres[\"agescrn\"]<=25]\n",
    "print (totalpreglist1.mean())\n",
    "\n",
    "totalpreglist2 = NumberOfPregs[pres[\"agescrn\"].max()]\n",
    "print (totalpreglist2.mean())"
   ]
  },
  {
   "cell_type": "code",
   "execution_count": null,
   "metadata": {
    "collapsed": true
   },
   "outputs": [],
   "source": []
  }
 ],
 "metadata": {
  "kernelspec": {
   "display_name": "Python 2",
   "language": "python",
   "name": "python2"
  },
  "language_info": {
   "codemirror_mode": {
    "name": "ipython",
    "version": 2
   },
   "file_extension": ".py",
   "mimetype": "text/x-python",
   "name": "python",
   "nbconvert_exporter": "python",
   "pygments_lexer": "ipython2",
   "version": "2.7.13"
  }
 },
 "nbformat": 4,
 "nbformat_minor": 2
}
